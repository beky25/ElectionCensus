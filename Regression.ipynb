{
 "cells": [
  {
   "cell_type": "code",
   "execution_count": 1,
   "metadata": {},
   "outputs": [],
   "source": [
    "%matplotlib inline\n",
    "import matplotlib.pyplot as plt\n",
    "import numpy as np\n",
    "import pandas as pd"
   ]
  },
  {
   "cell_type": "code",
   "execution_count": 2,
   "metadata": {},
   "outputs": [
    {
     "data": {
      "text/html": [
       "<div>\n",
       "<style scoped>\n",
       "    .dataframe tbody tr th:only-of-type {\n",
       "        vertical-align: middle;\n",
       "    }\n",
       "\n",
       "    .dataframe tbody tr th {\n",
       "        vertical-align: top;\n",
       "    }\n",
       "\n",
       "    .dataframe thead th {\n",
       "        text-align: right;\n",
       "    }\n",
       "</style>\n",
       "<table border=\"1\" class=\"dataframe\">\n",
       "  <thead>\n",
       "    <tr style=\"text-align: right;\">\n",
       "      <th></th>\n",
       "      <th>Id</th>\n",
       "      <th>County</th>\n",
       "      <th>State</th>\n",
       "      <th>GILLESPIE</th>\n",
       "      <th>HYRA</th>\n",
       "      <th>NORTHAM</th>\n",
       "      <th>TotalHH</th>\n",
       "      <th>FamilyHH</th>\n",
       "      <th>HHWithUnder18</th>\n",
       "      <th>HHWith65Plus</th>\n",
       "      <th>...</th>\n",
       "      <th>Age85Plus</th>\n",
       "      <th>AgeMedian</th>\n",
       "      <th>RaceWhite</th>\n",
       "      <th>RaceBlack</th>\n",
       "      <th>RaceNative</th>\n",
       "      <th>RaceAsian</th>\n",
       "      <th>RacePacific</th>\n",
       "      <th>RaceOther</th>\n",
       "      <th>RaceMixed</th>\n",
       "      <th>PopHispanic</th>\n",
       "    </tr>\n",
       "  </thead>\n",
       "  <tbody>\n",
       "    <tr>\n",
       "      <th>0</th>\n",
       "      <td>0500000US51001</td>\n",
       "      <td>ACCOMACK COUNTY</td>\n",
       "      <td>Virginia</td>\n",
       "      <td>0.537784</td>\n",
       "      <td>0.005063</td>\n",
       "      <td>0.457154</td>\n",
       "      <td>-0.207729</td>\n",
       "      <td>-0.412568</td>\n",
       "      <td>-0.611230</td>\n",
       "      <td>0.703906</td>\n",
       "      <td>...</td>\n",
       "      <td>0.288474</td>\n",
       "      <td>0.817523</td>\n",
       "      <td>-0.934650</td>\n",
       "      <td>1.376990</td>\n",
       "      <td>-0.200259</td>\n",
       "      <td>-0.405697</td>\n",
       "      <td>-0.128906</td>\n",
       "      <td>-0.138368</td>\n",
       "      <td>-0.495569</td>\n",
       "      <td>-0.010789</td>\n",
       "    </tr>\n",
       "    <tr>\n",
       "      <th>1</th>\n",
       "      <td>0500000US51003</td>\n",
       "      <td>ALBEMARLE COUNTY</td>\n",
       "      <td>Virginia</td>\n",
       "      <td>0.351362</td>\n",
       "      <td>0.010832</td>\n",
       "      <td>0.637806</td>\n",
       "      <td>0.017268</td>\n",
       "      <td>-0.486752</td>\n",
       "      <td>-0.079111</td>\n",
       "      <td>-0.251540</td>\n",
       "      <td>...</td>\n",
       "      <td>0.500842</td>\n",
       "      <td>-0.396222</td>\n",
       "      <td>-0.112178</td>\n",
       "      <td>0.019551</td>\n",
       "      <td>-0.226618</td>\n",
       "      <td>1.176091</td>\n",
       "      <td>-0.128906</td>\n",
       "      <td>-0.111774</td>\n",
       "      <td>0.274829</td>\n",
       "      <td>-0.246104</td>\n",
       "    </tr>\n",
       "    <tr>\n",
       "      <th>2</th>\n",
       "      <td>0500000US51510</td>\n",
       "      <td>ALEXANDRIA CITY</td>\n",
       "      <td>Virginia</td>\n",
       "      <td>0.207509</td>\n",
       "      <td>0.008322</td>\n",
       "      <td>0.784169</td>\n",
       "      <td>0.268794</td>\n",
       "      <td>-3.417016</td>\n",
       "      <td>-1.229174</td>\n",
       "      <td>-2.464150</td>\n",
       "      <td>...</td>\n",
       "      <td>-1.091918</td>\n",
       "      <td>-0.900393</td>\n",
       "      <td>-1.232647</td>\n",
       "      <td>0.867089</td>\n",
       "      <td>-0.226618</td>\n",
       "      <td>1.911807</td>\n",
       "      <td>-0.128906</td>\n",
       "      <td>0.553065</td>\n",
       "      <td>1.353387</td>\n",
       "      <td>0.570144</td>\n",
       "    </tr>\n",
       "    <tr>\n",
       "      <th>3</th>\n",
       "      <td>0500000US51005</td>\n",
       "      <td>ALLEGHANY COUNTY</td>\n",
       "      <td>Virginia</td>\n",
       "      <td>0.656065</td>\n",
       "      <td>0.008178</td>\n",
       "      <td>0.335756</td>\n",
       "      <td>-0.268994</td>\n",
       "      <td>-0.653666</td>\n",
       "      <td>-0.920202</td>\n",
       "      <td>1.491729</td>\n",
       "      <td>...</td>\n",
       "      <td>0.713210</td>\n",
       "      <td>1.303021</td>\n",
       "      <td>0.549375</td>\n",
       "      <td>-0.262962</td>\n",
       "      <td>-0.252977</td>\n",
       "      <td>-0.442483</td>\n",
       "      <td>-0.128906</td>\n",
       "      <td>-0.430897</td>\n",
       "      <td>-0.392849</td>\n",
       "      <td>-0.554954</td>\n",
       "    </tr>\n",
       "  </tbody>\n",
       "</table>\n",
       "<p>4 rows × 99 columns</p>\n",
       "</div>"
      ],
      "text/plain": [
       "               Id            County      State  GILLESPIE      HYRA   NORTHAM  \\\n",
       "0  0500000US51001   ACCOMACK COUNTY   Virginia   0.537784  0.005063  0.457154   \n",
       "1  0500000US51003  ALBEMARLE COUNTY   Virginia   0.351362  0.010832  0.637806   \n",
       "2  0500000US51510   ALEXANDRIA CITY   Virginia   0.207509  0.008322  0.784169   \n",
       "3  0500000US51005  ALLEGHANY COUNTY   Virginia   0.656065  0.008178  0.335756   \n",
       "\n",
       "    TotalHH  FamilyHH  HHWithUnder18  HHWith65Plus     ...       Age85Plus  \\\n",
       "0 -0.207729 -0.412568      -0.611230      0.703906     ...        0.288474   \n",
       "1  0.017268 -0.486752      -0.079111     -0.251540     ...        0.500842   \n",
       "2  0.268794 -3.417016      -1.229174     -2.464150     ...       -1.091918   \n",
       "3 -0.268994 -0.653666      -0.920202      1.491729     ...        0.713210   \n",
       "\n",
       "   AgeMedian  RaceWhite  RaceBlack  RaceNative  RaceAsian  RacePacific  \\\n",
       "0   0.817523  -0.934650   1.376990   -0.200259  -0.405697    -0.128906   \n",
       "1  -0.396222  -0.112178   0.019551   -0.226618   1.176091    -0.128906   \n",
       "2  -0.900393  -1.232647   0.867089   -0.226618   1.911807    -0.128906   \n",
       "3   1.303021   0.549375  -0.262962   -0.252977  -0.442483    -0.128906   \n",
       "\n",
       "   RaceOther  RaceMixed  PopHispanic  \n",
       "0  -0.138368  -0.495569    -0.010789  \n",
       "1  -0.111774   0.274829    -0.246104  \n",
       "2   0.553065   1.353387     0.570144  \n",
       "3  -0.430897  -0.392849    -0.554954  \n",
       "\n",
       "[4 rows x 99 columns]"
      ]
     },
     "execution_count": 2,
     "metadata": {},
     "output_type": "execute_result"
    }
   ],
   "source": [
    "va = pd.read_csv('census_varesults2017_merged.csv')\n",
    "va.head(4)"
   ]
  },
  {
   "cell_type": "code",
   "execution_count": 3,
   "metadata": {},
   "outputs": [],
   "source": [
    "va_county = []\n",
    "for counties in va['County']:\n",
    "    va_county.append(counties)\n",
    "   \n",
    "    "
   ]
  },
  {
   "cell_type": "code",
   "execution_count": 4,
   "metadata": {},
   "outputs": [],
   "source": [
    "#va['northam_round'] = va.NORTHAM.round(2)\n"
   ]
  },
  {
   "cell_type": "code",
   "execution_count": 5,
   "metadata": {},
   "outputs": [],
   "source": [
    "va['Winner'] = np.where(va['NORTHAM'] > va['GILLESPIE'], 'Democrat', 'Republican')"
   ]
  },
  {
   "cell_type": "code",
   "execution_count": 6,
   "metadata": {},
   "outputs": [
    {
     "data": {
      "text/html": [
       "<div>\n",
       "<style scoped>\n",
       "    .dataframe tbody tr th:only-of-type {\n",
       "        vertical-align: middle;\n",
       "    }\n",
       "\n",
       "    .dataframe tbody tr th {\n",
       "        vertical-align: top;\n",
       "    }\n",
       "\n",
       "    .dataframe thead th {\n",
       "        text-align: right;\n",
       "    }\n",
       "</style>\n",
       "<table border=\"1\" class=\"dataframe\">\n",
       "  <thead>\n",
       "    <tr style=\"text-align: right;\">\n",
       "      <th></th>\n",
       "      <th>GILLESPIE</th>\n",
       "      <th>HYRA</th>\n",
       "      <th>NORTHAM</th>\n",
       "      <th>TotalHH</th>\n",
       "      <th>FamilyHH</th>\n",
       "      <th>HHWithUnder18</th>\n",
       "      <th>HHWith65Plus</th>\n",
       "      <th>AvgHHSize</th>\n",
       "      <th>EnrollmentPreK</th>\n",
       "      <th>EnrollmentK</th>\n",
       "      <th>...</th>\n",
       "      <th>Age85Plus</th>\n",
       "      <th>AgeMedian</th>\n",
       "      <th>RaceWhite</th>\n",
       "      <th>RaceBlack</th>\n",
       "      <th>RaceNative</th>\n",
       "      <th>RaceAsian</th>\n",
       "      <th>RacePacific</th>\n",
       "      <th>RaceOther</th>\n",
       "      <th>RaceMixed</th>\n",
       "      <th>PopHispanic</th>\n",
       "    </tr>\n",
       "  </thead>\n",
       "  <tbody>\n",
       "    <tr>\n",
       "      <th>count</th>\n",
       "      <td>95.000000</td>\n",
       "      <td>95.000000</td>\n",
       "      <td>95.000000</td>\n",
       "      <td>95.000000</td>\n",
       "      <td>95.000000</td>\n",
       "      <td>95.000000</td>\n",
       "      <td>95.000000</td>\n",
       "      <td>95.000000</td>\n",
       "      <td>95.000000</td>\n",
       "      <td>95.000000</td>\n",
       "      <td>...</td>\n",
       "      <td>95.000000</td>\n",
       "      <td>95.000000</td>\n",
       "      <td>95.000000</td>\n",
       "      <td>95.000000</td>\n",
       "      <td>95.000000</td>\n",
       "      <td>95.000000</td>\n",
       "      <td>95.000000</td>\n",
       "      <td>95.000000</td>\n",
       "      <td>95.000000</td>\n",
       "      <td>95.000000</td>\n",
       "    </tr>\n",
       "    <tr>\n",
       "      <th>mean</th>\n",
       "      <td>0.541497</td>\n",
       "      <td>0.010712</td>\n",
       "      <td>0.447791</td>\n",
       "      <td>-0.131286</td>\n",
       "      <td>-0.168152</td>\n",
       "      <td>-0.206133</td>\n",
       "      <td>0.144048</td>\n",
       "      <td>-0.223607</td>\n",
       "      <td>-0.400406</td>\n",
       "      <td>-0.186660</td>\n",
       "      <td>...</td>\n",
       "      <td>-0.142968</td>\n",
       "      <td>0.189128</td>\n",
       "      <td>-0.542611</td>\n",
       "      <td>0.726522</td>\n",
       "      <td>-0.211219</td>\n",
       "      <td>0.302913</td>\n",
       "      <td>-0.083886</td>\n",
       "      <td>-0.194354</td>\n",
       "      <td>0.070471</td>\n",
       "      <td>-0.289219</td>\n",
       "    </tr>\n",
       "    <tr>\n",
       "      <th>std</th>\n",
       "      <td>0.164804</td>\n",
       "      <td>0.003196</td>\n",
       "      <td>0.164445</td>\n",
       "      <td>0.409062</td>\n",
       "      <td>1.382525</td>\n",
       "      <td>0.961238</td>\n",
       "      <td>1.270651</td>\n",
       "      <td>0.888628</td>\n",
       "      <td>0.995239</td>\n",
       "      <td>1.048407</td>\n",
       "      <td>...</td>\n",
       "      <td>0.976860</td>\n",
       "      <td>1.192576</td>\n",
       "      <td>1.026946</td>\n",
       "      <td>1.152321</td>\n",
       "      <td>0.089669</td>\n",
       "      <td>1.293951</td>\n",
       "      <td>0.088868</td>\n",
       "      <td>0.367765</td>\n",
       "      <td>0.642358</td>\n",
       "      <td>0.446586</td>\n",
       "    </tr>\n",
       "    <tr>\n",
       "      <th>min</th>\n",
       "      <td>0.114979</td>\n",
       "      <td>0.004322</td>\n",
       "      <td>0.164271</td>\n",
       "      <td>-0.319278</td>\n",
       "      <td>-4.492682</td>\n",
       "      <td>-2.602384</td>\n",
       "      <td>-2.648534</td>\n",
       "      <td>-2.345971</td>\n",
       "      <td>-2.829322</td>\n",
       "      <td>-3.069498</td>\n",
       "      <td>...</td>\n",
       "      <td>-1.941390</td>\n",
       "      <td>-3.645324</td>\n",
       "      <td>-3.962298</td>\n",
       "      <td>-0.621270</td>\n",
       "      <td>-0.252977</td>\n",
       "      <td>-0.479269</td>\n",
       "      <td>-0.128906</td>\n",
       "      <td>-0.537271</td>\n",
       "      <td>-1.009168</td>\n",
       "      <td>-0.657905</td>\n",
       "    </tr>\n",
       "    <tr>\n",
       "      <th>25%</th>\n",
       "      <td>0.424928</td>\n",
       "      <td>0.008706</td>\n",
       "      <td>0.326810</td>\n",
       "      <td>-0.284446</td>\n",
       "      <td>-0.792761</td>\n",
       "      <td>-0.739968</td>\n",
       "      <td>-0.570021</td>\n",
       "      <td>-0.795304</td>\n",
       "      <td>-1.047678</td>\n",
       "      <td>-0.771098</td>\n",
       "      <td>...</td>\n",
       "      <td>-0.773366</td>\n",
       "      <td>-0.396222</td>\n",
       "      <td>-1.184967</td>\n",
       "      <td>-0.173384</td>\n",
       "      <td>-0.239798</td>\n",
       "      <td>-0.405697</td>\n",
       "      <td>-0.128906</td>\n",
       "      <td>-0.444193</td>\n",
       "      <td>-0.418529</td>\n",
       "      <td>-0.521863</td>\n",
       "    </tr>\n",
       "    <tr>\n",
       "      <th>50%</th>\n",
       "      <td>0.579230</td>\n",
       "      <td>0.010886</td>\n",
       "      <td>0.411019</td>\n",
       "      <td>-0.252971</td>\n",
       "      <td>0.051081</td>\n",
       "      <td>-0.250763</td>\n",
       "      <td>0.301613</td>\n",
       "      <td>-0.265807</td>\n",
       "      <td>-0.373542</td>\n",
       "      <td>-0.189575</td>\n",
       "      <td>...</td>\n",
       "      <td>-0.242446</td>\n",
       "      <td>0.332025</td>\n",
       "      <td>-0.380376</td>\n",
       "      <td>0.343407</td>\n",
       "      <td>-0.226618</td>\n",
       "      <td>-0.221768</td>\n",
       "      <td>-0.128906</td>\n",
       "      <td>-0.324523</td>\n",
       "      <td>-0.033330</td>\n",
       "      <td>-0.437297</td>\n",
       "    </tr>\n",
       "    <tr>\n",
       "      <th>75%</th>\n",
       "      <td>0.658956</td>\n",
       "      <td>0.012578</td>\n",
       "      <td>0.568455</td>\n",
       "      <td>-0.168219</td>\n",
       "      <td>0.848558</td>\n",
       "      <td>0.289939</td>\n",
       "      <td>0.712287</td>\n",
       "      <td>0.112404</td>\n",
       "      <td>0.107983</td>\n",
       "      <td>0.281181</td>\n",
       "      <td>...</td>\n",
       "      <td>0.288474</td>\n",
       "      <td>0.864206</td>\n",
       "      <td>0.281177</td>\n",
       "      <td>1.404552</td>\n",
       "      <td>-0.200259</td>\n",
       "      <td>0.458769</td>\n",
       "      <td>-0.057624</td>\n",
       "      <td>-0.098477</td>\n",
       "      <td>0.454589</td>\n",
       "      <td>-0.268165</td>\n",
       "    </tr>\n",
       "    <tr>\n",
       "      <th>max</th>\n",
       "      <td>0.830078</td>\n",
       "      <td>0.019976</td>\n",
       "      <td>0.878156</td>\n",
       "      <td>3.126446</td>\n",
       "      <td>2.072592</td>\n",
       "      <td>3.233756</td>\n",
       "      <td>3.721101</td>\n",
       "      <td>3.100276</td>\n",
       "      <td>2.660068</td>\n",
       "      <td>2.911880</td>\n",
       "      <td>...</td>\n",
       "      <td>4.323466</td>\n",
       "      <td>3.506435</td>\n",
       "      <td>0.966570</td>\n",
       "      <td>4.670674</td>\n",
       "      <td>0.603689</td>\n",
       "      <td>6.326101</td>\n",
       "      <td>0.298784</td>\n",
       "      <td>1.084935</td>\n",
       "      <td>1.815626</td>\n",
       "      <td>2.026153</td>\n",
       "    </tr>\n",
       "  </tbody>\n",
       "</table>\n",
       "<p>8 rows × 96 columns</p>\n",
       "</div>"
      ],
      "text/plain": [
       "       GILLESPIE       HYRA    NORTHAM    TotalHH   FamilyHH  HHWithUnder18  \\\n",
       "count  95.000000  95.000000  95.000000  95.000000  95.000000      95.000000   \n",
       "mean    0.541497   0.010712   0.447791  -0.131286  -0.168152      -0.206133   \n",
       "std     0.164804   0.003196   0.164445   0.409062   1.382525       0.961238   \n",
       "min     0.114979   0.004322   0.164271  -0.319278  -4.492682      -2.602384   \n",
       "25%     0.424928   0.008706   0.326810  -0.284446  -0.792761      -0.739968   \n",
       "50%     0.579230   0.010886   0.411019  -0.252971   0.051081      -0.250763   \n",
       "75%     0.658956   0.012578   0.568455  -0.168219   0.848558       0.289939   \n",
       "max     0.830078   0.019976   0.878156   3.126446   2.072592       3.233756   \n",
       "\n",
       "       HHWith65Plus  AvgHHSize  EnrollmentPreK  EnrollmentK     ...       \\\n",
       "count     95.000000  95.000000       95.000000    95.000000     ...        \n",
       "mean       0.144048  -0.223607       -0.400406    -0.186660     ...        \n",
       "std        1.270651   0.888628        0.995239     1.048407     ...        \n",
       "min       -2.648534  -2.345971       -2.829322    -3.069498     ...        \n",
       "25%       -0.570021  -0.795304       -1.047678    -0.771098     ...        \n",
       "50%        0.301613  -0.265807       -0.373542    -0.189575     ...        \n",
       "75%        0.712287   0.112404        0.107983     0.281181     ...        \n",
       "max        3.721101   3.100276        2.660068     2.911880     ...        \n",
       "\n",
       "       Age85Plus  AgeMedian  RaceWhite  RaceBlack  RaceNative  RaceAsian  \\\n",
       "count  95.000000  95.000000  95.000000  95.000000   95.000000  95.000000   \n",
       "mean   -0.142968   0.189128  -0.542611   0.726522   -0.211219   0.302913   \n",
       "std     0.976860   1.192576   1.026946   1.152321    0.089669   1.293951   \n",
       "min    -1.941390  -3.645324  -3.962298  -0.621270   -0.252977  -0.479269   \n",
       "25%    -0.773366  -0.396222  -1.184967  -0.173384   -0.239798  -0.405697   \n",
       "50%    -0.242446   0.332025  -0.380376   0.343407   -0.226618  -0.221768   \n",
       "75%     0.288474   0.864206   0.281177   1.404552   -0.200259   0.458769   \n",
       "max     4.323466   3.506435   0.966570   4.670674    0.603689   6.326101   \n",
       "\n",
       "       RacePacific  RaceOther  RaceMixed  PopHispanic  \n",
       "count    95.000000  95.000000  95.000000    95.000000  \n",
       "mean     -0.083886  -0.194354   0.070471    -0.289219  \n",
       "std       0.088868   0.367765   0.642358     0.446586  \n",
       "min      -0.128906  -0.537271  -1.009168    -0.657905  \n",
       "25%      -0.128906  -0.444193  -0.418529    -0.521863  \n",
       "50%      -0.128906  -0.324523  -0.033330    -0.437297  \n",
       "75%      -0.057624  -0.098477   0.454589    -0.268165  \n",
       "max       0.298784   1.084935   1.815626     2.026153  \n",
       "\n",
       "[8 rows x 96 columns]"
      ]
     },
     "execution_count": 6,
     "metadata": {},
     "output_type": "execute_result"
    }
   ],
   "source": [
    "va.describe()"
   ]
  },
  {
   "cell_type": "code",
   "execution_count": 7,
   "metadata": {},
   "outputs": [
    {
     "data": {
      "text/html": [
       "<div>\n",
       "<style scoped>\n",
       "    .dataframe tbody tr th:only-of-type {\n",
       "        vertical-align: middle;\n",
       "    }\n",
       "\n",
       "    .dataframe tbody tr th {\n",
       "        vertical-align: top;\n",
       "    }\n",
       "\n",
       "    .dataframe thead th {\n",
       "        text-align: right;\n",
       "    }\n",
       "</style>\n",
       "<table border=\"1\" class=\"dataframe\">\n",
       "  <thead>\n",
       "    <tr style=\"text-align: right;\">\n",
       "      <th></th>\n",
       "      <th>Id</th>\n",
       "      <th>County</th>\n",
       "      <th>State</th>\n",
       "      <th>GILLESPIE</th>\n",
       "      <th>HYRA</th>\n",
       "      <th>NORTHAM</th>\n",
       "      <th>TotalHH</th>\n",
       "      <th>FamilyHH</th>\n",
       "      <th>HHWithUnder18</th>\n",
       "      <th>HHWith65Plus</th>\n",
       "      <th>...</th>\n",
       "      <th>AgeMedian</th>\n",
       "      <th>RaceWhite</th>\n",
       "      <th>RaceBlack</th>\n",
       "      <th>RaceNative</th>\n",
       "      <th>RaceAsian</th>\n",
       "      <th>RacePacific</th>\n",
       "      <th>RaceOther</th>\n",
       "      <th>RaceMixed</th>\n",
       "      <th>PopHispanic</th>\n",
       "      <th>Winner</th>\n",
       "    </tr>\n",
       "  </thead>\n",
       "  <tbody>\n",
       "    <tr>\n",
       "      <th>0</th>\n",
       "      <td>0500000US51001</td>\n",
       "      <td>ACCOMACK COUNTY</td>\n",
       "      <td>Virginia</td>\n",
       "      <td>0.537784</td>\n",
       "      <td>0.005063</td>\n",
       "      <td>0.457154</td>\n",
       "      <td>-0.207729</td>\n",
       "      <td>-0.412568</td>\n",
       "      <td>-0.611230</td>\n",
       "      <td>0.703906</td>\n",
       "      <td>...</td>\n",
       "      <td>0.817523</td>\n",
       "      <td>-0.934650</td>\n",
       "      <td>1.376990</td>\n",
       "      <td>-0.200259</td>\n",
       "      <td>-0.405697</td>\n",
       "      <td>-0.128906</td>\n",
       "      <td>-0.138368</td>\n",
       "      <td>-0.495569</td>\n",
       "      <td>-0.010789</td>\n",
       "      <td>Republican</td>\n",
       "    </tr>\n",
       "    <tr>\n",
       "      <th>1</th>\n",
       "      <td>0500000US51003</td>\n",
       "      <td>ALBEMARLE COUNTY</td>\n",
       "      <td>Virginia</td>\n",
       "      <td>0.351362</td>\n",
       "      <td>0.010832</td>\n",
       "      <td>0.637806</td>\n",
       "      <td>0.017268</td>\n",
       "      <td>-0.486752</td>\n",
       "      <td>-0.079111</td>\n",
       "      <td>-0.251540</td>\n",
       "      <td>...</td>\n",
       "      <td>-0.396222</td>\n",
       "      <td>-0.112178</td>\n",
       "      <td>0.019551</td>\n",
       "      <td>-0.226618</td>\n",
       "      <td>1.176091</td>\n",
       "      <td>-0.128906</td>\n",
       "      <td>-0.111774</td>\n",
       "      <td>0.274829</td>\n",
       "      <td>-0.246104</td>\n",
       "      <td>Democrat</td>\n",
       "    </tr>\n",
       "    <tr>\n",
       "      <th>2</th>\n",
       "      <td>0500000US51510</td>\n",
       "      <td>ALEXANDRIA CITY</td>\n",
       "      <td>Virginia</td>\n",
       "      <td>0.207509</td>\n",
       "      <td>0.008322</td>\n",
       "      <td>0.784169</td>\n",
       "      <td>0.268794</td>\n",
       "      <td>-3.417016</td>\n",
       "      <td>-1.229174</td>\n",
       "      <td>-2.464150</td>\n",
       "      <td>...</td>\n",
       "      <td>-0.900393</td>\n",
       "      <td>-1.232647</td>\n",
       "      <td>0.867089</td>\n",
       "      <td>-0.226618</td>\n",
       "      <td>1.911807</td>\n",
       "      <td>-0.128906</td>\n",
       "      <td>0.553065</td>\n",
       "      <td>1.353387</td>\n",
       "      <td>0.570144</td>\n",
       "      <td>Democrat</td>\n",
       "    </tr>\n",
       "    <tr>\n",
       "      <th>3</th>\n",
       "      <td>0500000US51005</td>\n",
       "      <td>ALLEGHANY COUNTY</td>\n",
       "      <td>Virginia</td>\n",
       "      <td>0.656065</td>\n",
       "      <td>0.008178</td>\n",
       "      <td>0.335756</td>\n",
       "      <td>-0.268994</td>\n",
       "      <td>-0.653666</td>\n",
       "      <td>-0.920202</td>\n",
       "      <td>1.491729</td>\n",
       "      <td>...</td>\n",
       "      <td>1.303021</td>\n",
       "      <td>0.549375</td>\n",
       "      <td>-0.262962</td>\n",
       "      <td>-0.252977</td>\n",
       "      <td>-0.442483</td>\n",
       "      <td>-0.128906</td>\n",
       "      <td>-0.430897</td>\n",
       "      <td>-0.392849</td>\n",
       "      <td>-0.554954</td>\n",
       "      <td>Republican</td>\n",
       "    </tr>\n",
       "    <tr>\n",
       "      <th>4</th>\n",
       "      <td>0500000US51007</td>\n",
       "      <td>AMELIA COUNTY</td>\n",
       "      <td>Virginia</td>\n",
       "      <td>0.687188</td>\n",
       "      <td>0.008671</td>\n",
       "      <td>0.304140</td>\n",
       "      <td>-0.289243</td>\n",
       "      <td>1.701673</td>\n",
       "      <td>-0.182102</td>\n",
       "      <td>0.301613</td>\n",
       "      <td>...</td>\n",
       "      <td>0.612120</td>\n",
       "      <td>-0.594933</td>\n",
       "      <td>0.998010</td>\n",
       "      <td>-0.187080</td>\n",
       "      <td>-0.442483</td>\n",
       "      <td>-0.128906</td>\n",
       "      <td>-0.457490</td>\n",
       "      <td>-0.033330</td>\n",
       "      <td>-0.569662</td>\n",
       "      <td>Republican</td>\n",
       "    </tr>\n",
       "  </tbody>\n",
       "</table>\n",
       "<p>5 rows × 100 columns</p>\n",
       "</div>"
      ],
      "text/plain": [
       "               Id            County      State  GILLESPIE      HYRA   NORTHAM  \\\n",
       "0  0500000US51001   ACCOMACK COUNTY   Virginia   0.537784  0.005063  0.457154   \n",
       "1  0500000US51003  ALBEMARLE COUNTY   Virginia   0.351362  0.010832  0.637806   \n",
       "2  0500000US51510   ALEXANDRIA CITY   Virginia   0.207509  0.008322  0.784169   \n",
       "3  0500000US51005  ALLEGHANY COUNTY   Virginia   0.656065  0.008178  0.335756   \n",
       "4  0500000US51007     AMELIA COUNTY   Virginia   0.687188  0.008671  0.304140   \n",
       "\n",
       "    TotalHH  FamilyHH  HHWithUnder18  HHWith65Plus     ...      AgeMedian  \\\n",
       "0 -0.207729 -0.412568      -0.611230      0.703906     ...       0.817523   \n",
       "1  0.017268 -0.486752      -0.079111     -0.251540     ...      -0.396222   \n",
       "2  0.268794 -3.417016      -1.229174     -2.464150     ...      -0.900393   \n",
       "3 -0.268994 -0.653666      -0.920202      1.491729     ...       1.303021   \n",
       "4 -0.289243  1.701673      -0.182102      0.301613     ...       0.612120   \n",
       "\n",
       "   RaceWhite  RaceBlack  RaceNative  RaceAsian  RacePacific  RaceOther  \\\n",
       "0  -0.934650   1.376990   -0.200259  -0.405697    -0.128906  -0.138368   \n",
       "1  -0.112178   0.019551   -0.226618   1.176091    -0.128906  -0.111774   \n",
       "2  -1.232647   0.867089   -0.226618   1.911807    -0.128906   0.553065   \n",
       "3   0.549375  -0.262962   -0.252977  -0.442483    -0.128906  -0.430897   \n",
       "4  -0.594933   0.998010   -0.187080  -0.442483    -0.128906  -0.457490   \n",
       "\n",
       "   RaceMixed  PopHispanic      Winner  \n",
       "0  -0.495569    -0.010789  Republican  \n",
       "1   0.274829    -0.246104    Democrat  \n",
       "2   1.353387     0.570144    Democrat  \n",
       "3  -0.392849    -0.554954  Republican  \n",
       "4  -0.033330    -0.569662  Republican  \n",
       "\n",
       "[5 rows x 100 columns]"
      ]
     },
     "execution_count": 7,
     "metadata": {},
     "output_type": "execute_result"
    }
   ],
   "source": [
    "va.head()"
   ]
  },
  {
   "cell_type": "code",
   "execution_count": 8,
   "metadata": {
    "scrolled": true
   },
   "outputs": [
    {
     "data": {
      "text/plain": [
       "['Id',\n",
       " 'County',\n",
       " 'State',\n",
       " 'GILLESPIE',\n",
       " 'HYRA',\n",
       " 'NORTHAM',\n",
       " 'TotalHH',\n",
       " 'FamilyHH',\n",
       " 'HHWithUnder18',\n",
       " 'HHWith65Plus',\n",
       " 'AvgHHSize',\n",
       " 'EnrollmentPreK',\n",
       " 'EnrollmentK',\n",
       " 'EnrollmentElem',\n",
       " 'EnrollmentHS',\n",
       " 'EnrollmentCollege',\n",
       " 'EduElem',\n",
       " 'EduPartialHS',\n",
       " 'EduHS',\n",
       " 'EduSomeCollege',\n",
       " 'EduAssociate',\n",
       " 'EduBachelors',\n",
       " 'EduGraduate',\n",
       " 'PopVetStatus',\n",
       " 'PopDisabledStatus',\n",
       " 'ResidenceDiffUS',\n",
       " 'ResidenceDiffAbroad',\n",
       " 'BornNativeUS',\n",
       " 'BornAbroad',\n",
       " 'LanguageEnglishOnly',\n",
       " 'LanguageSpanish',\n",
       " 'LanguageAsian',\n",
       " 'LanguageOther',\n",
       " 'HHWithComputer',\n",
       " 'HHWithBroadband',\n",
       " 'LaborCivilian',\n",
       " 'LaborArmedForces',\n",
       " 'LaborUnempRate',\n",
       " 'IndustryAgMining',\n",
       " 'IndustryConstruction',\n",
       " 'IndustryManufacture',\n",
       " 'IndustryWholesale',\n",
       " 'IndustryRetail',\n",
       " 'IndustryTransport',\n",
       " 'IndustryInfo',\n",
       " 'IndustryFinance',\n",
       " 'IndustryProfessional',\n",
       " 'IndustryEduHealth',\n",
       " 'IndustryEnter',\n",
       " 'IndustryOther',\n",
       " 'IndustryPubAdmin',\n",
       " 'PayrollPrivate',\n",
       " 'PayrollGovt',\n",
       " 'PayrollSelfEmp',\n",
       " 'IncomeUnder10k',\n",
       " 'Income10to14k',\n",
       " 'Income15to24k',\n",
       " 'Income25to34k',\n",
       " 'Income35to49k',\n",
       " 'Income50to74k',\n",
       " 'Income75to99k',\n",
       " 'Income100to149k',\n",
       " 'Income150to199k',\n",
       " 'Income200k',\n",
       " 'IncomeMedianHH',\n",
       " 'IncomeSocialSec',\n",
       " 'IncomeRetirement',\n",
       " 'IncomeSSI',\n",
       " 'IncomePublicAssist',\n",
       " 'IncomeSnap',\n",
       " 'IncomePerCapita',\n",
       " 'InsurancePrivate',\n",
       " 'InsurancePublic',\n",
       " 'InsuranceNone',\n",
       " 'IncomeBelowPoverty',\n",
       " 'PopTotal',\n",
       " 'PopMale',\n",
       " 'AgeUnder5',\n",
       " 'Age5to9',\n",
       " 'Age10to14',\n",
       " 'Age15to19',\n",
       " 'Age20to24',\n",
       " 'Age25to34',\n",
       " 'Age35to44',\n",
       " 'Age45to54',\n",
       " 'Age55to59',\n",
       " 'Age60to64',\n",
       " 'Age65to74',\n",
       " 'Age75to84',\n",
       " 'Age85Plus',\n",
       " 'AgeMedian',\n",
       " 'RaceWhite',\n",
       " 'RaceBlack',\n",
       " 'RaceNative',\n",
       " 'RaceAsian',\n",
       " 'RacePacific',\n",
       " 'RaceOther',\n",
       " 'RaceMixed',\n",
       " 'PopHispanic',\n",
       " 'Winner']"
      ]
     },
     "execution_count": 8,
     "metadata": {},
     "output_type": "execute_result"
    }
   ],
   "source": [
    "list(va)\n",
    "\n"
   ]
  },
  {
   "cell_type": "code",
   "execution_count": 9,
   "metadata": {},
   "outputs": [
    {
     "name": "stdout",
     "output_type": "stream",
     "text": [
      "(95, 85) (95,)\n"
     ]
    }
   ],
   "source": [
    "X = va[['TotalHH',\n",
    " 'FamilyHH','HHWithUnder18','HHWith65Plus','AvgHHSize','EnrollmentHS','EnrollmentCollege','EduElem','EduPartialHS',\n",
    " 'EduHS','EduSomeCollege','EduAssociate','EduBachelors','EduGraduate','PopVetStatus','PopDisabledStatus','ResidenceDiffUS',\n",
    " 'ResidenceDiffAbroad','BornNativeUS','BornAbroad','LanguageEnglishOnly','LanguageSpanish','LanguageAsian','LanguageOther',\n",
    " 'LaborCivilian','LaborArmedForces','IndustryAgMining','IndustryConstruction','IndustryManufacture','IndustryWholesale',\n",
    " 'IndustryRetail','IndustryTransport','IndustryInfo','IndustryFinance','IndustryProfessional','IndustryEduHealth','IndustryEnter','IndustryPubAdmin',\n",
    " 'PayrollGovt','PayrollSelfEmp','IncomeUnder10k','Income10to14k','Income15to24k','Income25to34k','Income35to49k',\n",
    " 'Income50to74k','Income75to99k','Income100to149k','Income150to199k','Income200k','IncomeMedianHH','IncomeSocialSec',\n",
    " 'IncomeRetirement','IncomeSSI','IncomePublicAssist','IncomeSnap','IncomePerCapita','InsurancePrivate','InsurancePublic',\n",
    " 'InsuranceNone','IncomeBelowPoverty','PopTotal','PopMale','AgeUnder5','Age5to9','Age10to14','Age15to19','Age20to24',\n",
    " 'Age25to34','Age35to44','Age45to54','Age55to59','Age60to64','Age65to74','Age75to84','Age85Plus','AgeMedian','RaceWhite',\n",
    " 'RaceBlack','RaceNative','RaceAsian','RacePacific','RaceOther','RaceMixed','PopHispanic']]\n",
    "#X= va[['EnrollmentCollege','EduBachelors','EduGraduate','LanguageEnglishOnly'\n",
    " #      ]]\n",
    "\n",
    "\n",
    "\n",
    "#y = va['Winner'].values.reshape(-1, 1)\n",
    "y = va['Winner']\n",
    "print(X.shape, y.shape)\n",
    "\n"
   ]
  },
  {
   "cell_type": "code",
   "execution_count": 10,
   "metadata": {},
   "outputs": [],
   "source": [
    "#from sklearn.model_selection import train_test_split\n",
    "\n",
    "#X_train, X_test, y_train, y_test = train_test_split(X, y, random_state=1)\n",
    "\n",
    "from sklearn.model_selection import train_test_split\n",
    "\n",
    "X_train, X_test, y_train, y_test = train_test_split(X, y, random_state=1, stratify=y)\n"
   ]
  },
  {
   "cell_type": "code",
   "execution_count": 11,
   "metadata": {},
   "outputs": [
    {
     "data": {
      "text/plain": [
       "LogisticRegression(C=1.0, class_weight=None, dual=False, fit_intercept=True,\n",
       "          intercept_scaling=1, max_iter=100, multi_class='warn',\n",
       "          n_jobs=None, penalty='l2', random_state=None, solver='warn',\n",
       "          tol=0.0001, verbose=0, warm_start=False)"
      ]
     },
     "execution_count": 11,
     "metadata": {},
     "output_type": "execute_result"
    }
   ],
   "source": [
    "#from sklearn.linear_model import LinearRegression\n",
    "#model = LinearRegression()\n",
    "\n",
    "from sklearn.linear_model import LogisticRegression\n",
    "classifier = LogisticRegression()\n",
    "classifier"
   ]
  },
  {
   "cell_type": "code",
   "execution_count": 12,
   "metadata": {},
   "outputs": [
    {
     "name": "stderr",
     "output_type": "stream",
     "text": [
      "/Users/antetsi/anaconda3/envs/PythonData/lib/python3.6/site-packages/sklearn/linear_model/logistic.py:432: FutureWarning: Default solver will be changed to 'lbfgs' in 0.22. Specify a solver to silence this warning.\n",
      "  FutureWarning)\n"
     ]
    },
    {
     "data": {
      "text/plain": [
       "LogisticRegression(C=1.0, class_weight=None, dual=False, fit_intercept=True,\n",
       "          intercept_scaling=1, max_iter=100, multi_class='warn',\n",
       "          n_jobs=None, penalty='l2', random_state=None, solver='warn',\n",
       "          tol=0.0001, verbose=0, warm_start=False)"
      ]
     },
     "execution_count": 12,
     "metadata": {},
     "output_type": "execute_result"
    }
   ],
   "source": [
    "classifier.fit(X_train, y_train)"
   ]
  },
  {
   "cell_type": "code",
   "execution_count": 13,
   "metadata": {},
   "outputs": [
    {
     "name": "stdout",
     "output_type": "stream",
     "text": [
      "Training Data Score: 0.9154929577464789\n",
      "Testing Data Score: 0.4166666666666667\n"
     ]
    }
   ],
   "source": [
    "print(f\"Training Data Score: {classifier.score(X_train, y_train)}\")\n",
    "print(f\"Testing Data Score: {classifier.score(X_test, y_test)}\")"
   ]
  },
  {
   "cell_type": "code",
   "execution_count": 14,
   "metadata": {},
   "outputs": [
    {
     "name": "stdout",
     "output_type": "stream",
     "text": [
      "First 10 Predictions:   ['Democrat' 'Republican' 'Democrat' 'Democrat' 'Democrat' 'Republican'\n",
      " 'Republican' 'Democrat' 'Republican' 'Republican']\n",
      "First 10 Actual labels: ['Republican', 'Republican', 'Republican', 'Republican', 'Democrat', 'Democrat', 'Republican', 'Democrat', 'Republican', 'Democrat']\n"
     ]
    }
   ],
   "source": [
    "predictions = classifier.predict(X_test)\n",
    "print(f\"First 10 Predictions:   {predictions[:10]}\")\n",
    "print(f\"First 10 Actual labels: {y_test[:10].tolist()}\")"
   ]
  },
  {
   "cell_type": "code",
   "execution_count": 16,
   "metadata": {},
   "outputs": [],
   "source": [
    "predictioning= classifier.predict(X)"
   ]
  },
  {
   "cell_type": "code",
   "execution_count": 17,
   "metadata": {},
   "outputs": [],
   "source": [
    "predicted = []\n",
    "for predict in predictioning:\n",
    "    predicted.append(predict)\n",
    "    "
   ]
  },
  {
   "cell_type": "code",
   "execution_count": 18,
   "metadata": {},
   "outputs": [],
   "source": [
    "actual = []\n",
    "for winner in va['Winner']:\n",
    "    actual.append(winner)"
   ]
  },
  {
   "cell_type": "code",
   "execution_count": 19,
   "metadata": {},
   "outputs": [],
   "source": [
    "%matplotlib inline\n",
    "\n",
    "import matplotlib.pyplot as plt\n",
    "import seaborn as sb\n",
    "sb.set(style=\"ticks\")\n"
   ]
  },
  {
   "cell_type": "code",
   "execution_count": 20,
   "metadata": {},
   "outputs": [
    {
     "data": {
      "text/html": [
       "<div>\n",
       "<style scoped>\n",
       "    .dataframe tbody tr th:only-of-type {\n",
       "        vertical-align: middle;\n",
       "    }\n",
       "\n",
       "    .dataframe tbody tr th {\n",
       "        vertical-align: top;\n",
       "    }\n",
       "\n",
       "    .dataframe thead th {\n",
       "        text-align: right;\n",
       "    }\n",
       "</style>\n",
       "<table border=\"1\" class=\"dataframe\">\n",
       "  <thead>\n",
       "    <tr style=\"text-align: right;\">\n",
       "      <th></th>\n",
       "      <th>va_county</th>\n",
       "      <th>actual</th>\n",
       "      <th>predicted</th>\n",
       "    </tr>\n",
       "  </thead>\n",
       "  <tbody>\n",
       "    <tr>\n",
       "      <th>0</th>\n",
       "      <td>ACCOMACK COUNTY</td>\n",
       "      <td>Republican</td>\n",
       "      <td>Democrat</td>\n",
       "    </tr>\n",
       "    <tr>\n",
       "      <th>1</th>\n",
       "      <td>ALBEMARLE COUNTY</td>\n",
       "      <td>Democrat</td>\n",
       "      <td>Republican</td>\n",
       "    </tr>\n",
       "    <tr>\n",
       "      <th>2</th>\n",
       "      <td>ALEXANDRIA CITY</td>\n",
       "      <td>Democrat</td>\n",
       "      <td>Democrat</td>\n",
       "    </tr>\n",
       "  </tbody>\n",
       "</table>\n",
       "</div>"
      ],
      "text/plain": [
       "          va_county      actual   predicted\n",
       "0   ACCOMACK COUNTY  Republican    Democrat\n",
       "1  ALBEMARLE COUNTY    Democrat  Republican\n",
       "2   ALEXANDRIA CITY    Democrat    Democrat"
      ]
     },
     "execution_count": 20,
     "metadata": {},
     "output_type": "execute_result"
    }
   ],
   "source": [
    "df = pd.DataFrame({'va_county': va_county, 'actual': actual, 'predicted' : predicted})\n",
    "\n",
    "pd.melt(df, var_name='va_county', value_name=('actual','predicted'))\n",
    "df.head(3)"
   ]
  },
  {
   "cell_type": "code",
   "execution_count": 21,
   "metadata": {},
   "outputs": [],
   "source": [
    "df1 = df.iloc[::5]\n"
   ]
  },
  {
   "cell_type": "code",
   "execution_count": 22,
   "metadata": {},
   "outputs": [],
   "source": [
    "x= len(df[df['predicted'] == 'Republican'])"
   ]
  },
  {
   "cell_type": "code",
   "execution_count": 23,
   "metadata": {},
   "outputs": [],
   "source": [
    "# Labels for the sections of our pie chart\n",
    "labels = [\"ACTUAL REPUBLICAN county by county\",\"ACTUAL DEMOCRAT  county by county\"]\n",
    "label = [\"PREDICTED win for REPUBLICAN\",\"PREDICTED  win for DEMOCRAT\"]\n",
    "# The values of each section of the pie chart\n",
    "repub_act= len(df[df['actual'] == 'Republican'])\n",
    "\n",
    "demo_act= len(df[df['actual'] == 'Democrat'])\n",
    "\n",
    "repub_predi =len(df[df['predicted'] == 'Republican'])\n",
    "\n",
    "demo_predi =len(df[df['predicted'] == 'Democrat'])\n",
    "\n",
    "sizes = [repub_act, demo_act]\n",
    "size= [repub_predi,demo_predi]\n",
    "\n",
    "\n",
    "# The colors of each section of the pie chart\n",
    "colors = [\"red\", \"blue\"]\n",
    "\n",
    "# Tells matplotlib to seperate the \"Python\" section from the others\n",
    "explode = (0.1,0)"
   ]
  },
  {
   "cell_type": "code",
   "execution_count": null,
   "metadata": {},
   "outputs": [],
   "source": []
  },
  {
   "cell_type": "code",
   "execution_count": 24,
   "metadata": {},
   "outputs": [
    {
     "data": {
      "text/plain": [
       "([<matplotlib.patches.Wedge at 0x11c7781d0>,\n",
       "  <matplotlib.patches.Wedge at 0x11c778ba8>],\n",
       " [Text(-0.553609,1.06467,'PREDICTED win for REPUBLICAN'),\n",
       "  Text(0.507475,-0.975945,'PREDICTED  win for DEMOCRAT')],\n",
       " [Text(-0.322939,0.621056,'65.3%'), Text(0.276805,-0.532334,'34.7%')])"
      ]
     },
     "execution_count": 24,
     "metadata": {},
     "output_type": "execute_result"
    },
    {
     "data": {
      "image/png": "[encoded data removed]",
      "text/plain": [
       "<Figure size 432x288 with 2 Axes>"
      ]
     },
     "metadata": {},
     "output_type": "display_data"
    }
   ],
   "source": [
    "# Creates the pie chart based upon the values above\n",
    "# Automatically finds the percentages of each part of the pie chart\n",
    "fig, (ax1, ax2) = plt.subplots(1, 2)\n",
    "\n",
    "\n",
    "ax1.pie(sizes, explode=explode, labels=labels, colors=colors,autopct=\"%1.1f%%\",\n",
    "         shadow=True, startangle=0)\n",
    "ax2.pie(size, explode=explode, labels=label, colors=colors,autopct=\"%1.1f%%\",\n",
    "         shadow=True, startangle=0)"
   ]
  },
  {
   "cell_type": "code",
   "execution_count": 25,
   "metadata": {},
   "outputs": [],
   "source": [
    "x_axis = np.arange(len(df1))\n",
    "tick_locations = [value+0.4 for value in x_axis]"
   ]
  },
  {
   "cell_type": "code",
   "execution_count": 26,
   "metadata": {
    "scrolled": true
   },
   "outputs": [
    {
     "data": {
      "text/plain": [
       "([<matplotlib.axis.XTick at 0x11c7ad2e8>,\n",
       "  <matplotlib.axis.XTick at 0x11c7a2b70>,\n",
       "  <matplotlib.axis.XTick at 0x11c7a28d0>,\n",
       "  <matplotlib.axis.XTick at 0x11c861320>,\n",
       "  <matplotlib.axis.XTick at 0x11c8617f0>,\n",
       "  <matplotlib.axis.XTick at 0x11c861cf8>,\n",
       "  <matplotlib.axis.XTick at 0x11c868278>,\n",
       "  <matplotlib.axis.XTick at 0x11c868748>,\n",
       "  <matplotlib.axis.XTick at 0x11c861780>,\n",
       "  <matplotlib.axis.XTick at 0x11c868080>,\n",
       "  <matplotlib.axis.XTick at 0x11c868160>,\n",
       "  <matplotlib.axis.XTick at 0x11c871518>,\n",
       "  <matplotlib.axis.XTick at 0x11c871a20>,\n",
       "  <matplotlib.axis.XTick at 0x11c871f28>,\n",
       "  <matplotlib.axis.XTick at 0x11c879470>,\n",
       "  <matplotlib.axis.XTick at 0x11c879978>,\n",
       "  <matplotlib.axis.XTick at 0x11c879e80>,\n",
       "  <matplotlib.axis.XTick at 0x11c879a58>,\n",
       "  <matplotlib.axis.XTick at 0x11c8719b0>],\n",
       " <a list of 19 Text xticklabel objects>)"
      ]
     },
     "execution_count": 26,
     "metadata": {},
     "output_type": "execute_result"
    },
    {
     "data": {
      "image/png": "[encoded data removed]",
      "text/plain": [
       "<Figure size 432x288 with 1 Axes>"
      ]
     },
     "metadata": {},
     "output_type": "display_data"
    }
   ],
   "source": [
    "actual, = plt.plot(df1['va_county'], df1['actual'], marker=\"+\",color=\"red\", linewidth=1)\n",
    "predicted, = plt.plot(df1['va_county'], df1['predicted'], marker=\"s\", color=\"green\", linewidth=1)\n",
    "plt.xticks(tick_locations, df1[\"va_county\"], rotation=\"vertical\")"
   ]
  },
  {
   "cell_type": "code",
   "execution_count": 48,
   "metadata": {},
   "outputs": [
    {
     "data": {
      "text/html": [
       "<div>\n",
       "<style scoped>\n",
       "    .dataframe tbody tr th:only-of-type {\n",
       "        vertical-align: middle;\n",
       "    }\n",
       "\n",
       "    .dataframe tbody tr th {\n",
       "        vertical-align: top;\n",
       "    }\n",
       "\n",
       "    .dataframe thead th {\n",
       "        text-align: right;\n",
       "    }\n",
       "</style>\n",
       "<table border=\"1\" class=\"dataframe\">\n",
       "  <thead>\n",
       "    <tr style=\"text-align: right;\">\n",
       "      <th></th>\n",
       "      <th>va_county</th>\n",
       "      <th>actual</th>\n",
       "      <th>predicted</th>\n",
       "    </tr>\n",
       "  </thead>\n",
       "  <tbody>\n",
       "    <tr>\n",
       "      <th>0</th>\n",
       "      <td>ACCOMACK COUNTY</td>\n",
       "      <td>Republican</td>\n",
       "      <td>Democrat</td>\n",
       "    </tr>\n",
       "    <tr>\n",
       "      <th>5</th>\n",
       "      <td>AMHERST COUNTY</td>\n",
       "      <td>Republican</td>\n",
       "      <td>Republican</td>\n",
       "    </tr>\n",
       "    <tr>\n",
       "      <th>10</th>\n",
       "      <td>BLAND COUNTY</td>\n",
       "      <td>Republican</td>\n",
       "      <td>Republican</td>\n",
       "    </tr>\n",
       "    <tr>\n",
       "      <th>15</th>\n",
       "      <td>CARROLL COUNTY</td>\n",
       "      <td>Republican</td>\n",
       "      <td>Republican</td>\n",
       "    </tr>\n",
       "    <tr>\n",
       "      <th>20</th>\n",
       "      <td>COLONIAL HEIGHTS CITY</td>\n",
       "      <td>Republican</td>\n",
       "      <td>Republican</td>\n",
       "    </tr>\n",
       "  </tbody>\n",
       "</table>\n",
       "</div>"
      ],
      "text/plain": [
       "                va_county      actual   predicted\n",
       "0         ACCOMACK COUNTY  Republican    Democrat\n",
       "5          AMHERST COUNTY  Republican  Republican\n",
       "10           BLAND COUNTY  Republican  Republican\n",
       "15         CARROLL COUNTY  Republican  Republican\n",
       "20  COLONIAL HEIGHTS CITY  Republican  Republican"
      ]
     },
     "execution_count": 48,
     "metadata": {},
     "output_type": "execute_result"
    }
   ],
   "source": [
    "df1.head()"
   ]
  },
  {
   "cell_type": "code",
   "execution_count": 49,
   "metadata": {},
   "outputs": [],
   "source": [
    "\n",
    "\n",
    "users = [13000, 26000, 52000, 30000, 9000]\n",
    "x_axis = np.arange(len(df1))"
   ]
  },
  {
   "cell_type": "code",
   "execution_count": 50,
   "metadata": {},
   "outputs": [
    {
     "data": {
      "text/plain": [
       "95"
      ]
     },
     "execution_count": 50,
     "metadata": {},
     "output_type": "execute_result"
    }
   ],
   "source": [
    "sample_size = len(X)\n",
    "samples = df.apply(lambda x: x.actual == x.predicted, axis=1)\n",
    "sample_size\n"
   ]
  },
  {
   "cell_type": "code",
   "execution_count": 30,
   "metadata": {},
   "outputs": [
    {
     "name": "stderr",
     "output_type": "stream",
     "text": [
      "/Users/antetsi/anaconda3/envs/PythonData/lib/python3.6/site-packages/numpy/core/_methods.py:135: RuntimeWarning: Degrees of freedom <= 0 for slice\n",
      "  keepdims=keepdims)\n",
      "/Users/antetsi/anaconda3/envs/PythonData/lib/python3.6/site-packages/numpy/core/_methods.py:127: RuntimeWarning: invalid value encountered in double_scalars\n",
      "  ret = ret.dtype.type(ret / rcount)\n"
     ]
    }
   ],
   "source": [
    "from scipy.stats import sem\n",
    "nmeans = [np.mean(s) for s in samples]\n",
    "\n",
    "standard_errors = [sem(s) for s in samples]\n",
    "\n",
    "#describes how far its mean is from the population's true mean\n",
    "#helpful to determine the statistical accuracy of an estimat"
   ]
  },
  {
   "cell_type": "code",
   "execution_count": 31,
   "metadata": {},
   "outputs": [
    {
     "data": {
      "text/plain": [
       "Text(0,0.5,'Proportion of People Voting Republican')"
      ]
     },
     "execution_count": 31,
     "metadata": {},
     "output_type": "execute_result"
    },
    {
     "data": {
      "image/png": "[encoded data removed]",
      "text/plain": [
       "<Figure size 432x288 with 1 Axes>"
      ]
     },
     "metadata": {},
     "output_type": "display_data"
    }
   ],
   "source": [
    "# Setting up the plot\n",
    "x_axis = np.arange(0, len(samples), 1)\n",
    "fig, ax = plt.subplots()\n",
    "\n",
    "ax.errorbar(x_axis, nmeans, standard_errors, fmt=\"o\")\n",
    "#graphical representations of the variability of data and used on graphs to\n",
    "#indicate the error or uncertainty in a reported measurement\n",
    "\n",
    "ax.set_xlim(-1, len(samples) + 1)\n",
    "\n",
    "ax.set_xlabel(\"Sample Number\")\n",
    "ax.set_ylabel(\"Proportion of People Voting Republican\")"
   ]
  },
  {
   "cell_type": "code",
   "execution_count": 51,
   "metadata": {},
   "outputs": [
    {
     "name": "stdout",
     "output_type": "stream",
     "text": [
      "(95, 5) (95, 1)\n"
     ]
    }
   ],
   "source": [
    "X= va[['AvgHHSize','EduBachelors','AgeMedian','Income50to74k','AvgHHSize'\n",
    "\n",
    "]]\n",
    "y = va['Winner'].values.reshape(-1, 1) \n",
    "print(X.shape, y.shape)"
   ]
  },
  {
   "cell_type": "code",
   "execution_count": 34,
   "metadata": {},
   "outputs": [
    {
     "name": "stderr",
     "output_type": "stream",
     "text": [
      "/Users/antetsi/anaconda3/envs/PythonData/lib/python3.6/site-packages/h5py/__init__.py:36: FutureWarning: Conversion of the second argument of issubdtype from `float` to `np.floating` is deprecated. In future, it will be treated as `np.float64 == np.dtype(float).type`.\n",
      "  from ._conv import register_converters as _register_converters\n",
      "Using TensorFlow backend.\n",
      "/Users/antetsi/anaconda3/envs/PythonData/lib/python3.6/site-packages/sklearn/preprocessing/label.py:219: DataConversionWarning: A column-vector y was passed when a 1d array was expected. Please change the shape of y to (n_samples, ), for example using ravel().\n",
      "  y = column_or_1d(y, warn=True)\n",
      "/Users/antetsi/anaconda3/envs/PythonData/lib/python3.6/site-packages/sklearn/preprocessing/label.py:252: DataConversionWarning: A column-vector y was passed when a 1d array was expected. Please change the shape of y to (n_samples, ), for example using ravel().\n",
      "  y = column_or_1d(y, warn=True)\n",
      "/Users/antetsi/anaconda3/envs/PythonData/lib/python3.6/site-packages/sklearn/preprocessing/label.py:252: DataConversionWarning: A column-vector y was passed when a 1d array was expected. Please change the shape of y to (n_samples, ), for example using ravel().\n",
      "  y = column_or_1d(y, warn=True)\n"
     ]
    }
   ],
   "source": [
    "from sklearn.model_selection import train_test_split\n",
    "from sklearn.preprocessing import LabelEncoder, StandardScaler\n",
    "from keras.utils import to_categorical\n",
    "\n",
    "X_train, X_test, y_train, y_test = train_test_split(\n",
    "    X, y, random_state=1, stratify=y)\n",
    "X_scaler = StandardScaler().fit(X_train)\n",
    "X_train_scaled = X_scaler.transform(X_train)\n",
    "X_test_scaled = X_scaler.transform(X_test)\n",
    "\n",
    "\n",
    "# Step 1: Label-encode data set\n",
    "label_encoder = LabelEncoder()\n",
    "label_encoder.fit(y_train)\n",
    "encoded_y_train = label_encoder.transform(y_train)\n",
    "encoded_y_test = label_encoder.transform(y_test)\n",
    "\n",
    "# Step 2: Convert encoded labels to one-hot-encoding\n",
    "y_train_categorical = to_categorical(encoded_y_train)\n",
    "y_test_categorical = to_categorical(encoded_y_test)"
   ]
  },
  {
   "cell_type": "code",
   "execution_count": 35,
   "metadata": {},
   "outputs": [],
   "source": [
    "from keras.models import Sequential\n",
    "from keras.layers import Dense\n",
    "\n",
    "# Create model and add layers\n",
    "model = Sequential()\n",
    "model.add(Dense(units=100, activation='relu', input_dim=5))\n",
    "model.add(Dense(units=100, activation='relu'))\n",
    "model.add(Dense(units=2, activation='softmax'))"
   ]
  },
  {
   "cell_type": "code",
   "execution_count": 36,
   "metadata": {},
   "outputs": [
    {
     "name": "stdout",
     "output_type": "stream",
     "text": [
      "Epoch 1/30\n",
      " - 1s - loss: 0.7147 - acc: 0.5070\n",
      "Epoch 2/30\n",
      " - 0s - loss: 0.6800 - acc: 0.5915\n",
      "Epoch 3/30\n",
      " - 0s - loss: 0.6654 - acc: 0.6056\n",
      "Epoch 4/30\n",
      " - 0s - loss: 0.6505 - acc: 0.6479\n",
      "Epoch 5/30\n",
      " - 0s - loss: 0.6411 - acc: 0.6197\n",
      "Epoch 6/30\n",
      " - 0s - loss: 0.6314 - acc: 0.6056\n",
      "Epoch 7/30\n",
      " - 0s - loss: 0.6241 - acc: 0.6338\n",
      "Epoch 8/30\n",
      " - 0s - loss: 0.6181 - acc: 0.6479\n",
      "Epoch 9/30\n",
      " - 0s - loss: 0.6107 - acc: 0.6620\n",
      "Epoch 10/30\n",
      " - 0s - loss: 0.6073 - acc: 0.6761\n",
      "Epoch 11/30\n",
      " - 0s - loss: 0.6017 - acc: 0.6620\n",
      "Epoch 12/30\n",
      " - 0s - loss: 0.5993 - acc: 0.6620\n",
      "Epoch 13/30\n",
      " - 0s - loss: 0.5958 - acc: 0.6620\n",
      "Epoch 14/30\n",
      " - 0s - loss: 0.5934 - acc: 0.7042\n",
      "Epoch 15/30\n",
      " - 0s - loss: 0.5936 - acc: 0.6901\n",
      "Epoch 16/30\n",
      " - 0s - loss: 0.5892 - acc: 0.6761\n",
      "Epoch 17/30\n",
      " - 0s - loss: 0.5877 - acc: 0.6620\n",
      "Epoch 18/30\n",
      " - 0s - loss: 0.5845 - acc: 0.6761\n",
      "Epoch 19/30\n",
      " - 0s - loss: 0.5810 - acc: 0.6761\n",
      "Epoch 20/30\n",
      " - 0s - loss: 0.5796 - acc: 0.7042\n",
      "Epoch 21/30\n",
      " - 0s - loss: 0.5802 - acc: 0.6761\n",
      "Epoch 22/30\n",
      " - 0s - loss: 0.5802 - acc: 0.6901\n",
      "Epoch 23/30\n",
      " - 0s - loss: 0.5802 - acc: 0.6901\n",
      "Epoch 24/30\n",
      " - 0s - loss: 0.5777 - acc: 0.6901\n",
      "Epoch 25/30\n",
      " - 0s - loss: 0.5737 - acc: 0.7042\n",
      "Epoch 26/30\n",
      " - 0s - loss: 0.5693 - acc: 0.7183\n",
      "Epoch 27/30\n",
      " - 0s - loss: 0.5695 - acc: 0.6901\n",
      "Epoch 28/30\n",
      " - 0s - loss: 0.5658 - acc: 0.6901\n",
      "Epoch 29/30\n",
      " - 0s - loss: 0.5648 - acc: 0.6761\n",
      "Epoch 30/30\n",
      " - 0s - loss: 0.5630 - acc: 0.6761\n"
     ]
    },
    {
     "data": {
      "text/plain": [
       "<keras.callbacks.History at 0x1a411322b0>"
      ]
     },
     "execution_count": 36,
     "metadata": {},
     "output_type": "execute_result"
    }
   ],
   "source": [
    "# Compile and fit the model\n",
    "model.compile(optimizer='adam',\n",
    "              loss='categorical_crossentropy',\n",
    "              metrics=['accuracy'])\n",
    "model.fit(\n",
    "    X_train_scaled,\n",
    "    y_train_categorical,\n",
    "    epochs=30,\n",
    "    shuffle=True,\n",
    "    verbose=2\n",
    ")"
   ]
  },
  {
   "cell_type": "code",
   "execution_count": 37,
   "metadata": {},
   "outputs": [
    {
     "name": "stdout",
     "output_type": "stream",
     "text": [
      "Normal Neural Network - Loss: 0.5529900193214417, Accuracy: 0.6666666865348816\n"
     ]
    }
   ],
   "source": [
    "model_loss, model_accuracy = model.evaluate(\n",
    "    X_test_scaled, y_test_categorical, verbose=2)\n",
    "print(\n",
    "    f\"Normal Neural Network - Loss: {model_loss}, Accuracy: {model_accuracy}\")"
   ]
  },
  {
   "cell_type": "code",
   "execution_count": 38,
   "metadata": {},
   "outputs": [],
   "source": [
    "encoded_predictions = model.predict_classes(X_test_scaled[:10])\n",
    "prediction_labels = label_encoder.inverse_transform(encoded_predictions)"
   ]
  },
  {
   "cell_type": "code",
   "execution_count": 40,
   "metadata": {},
   "outputs": [
    {
     "name": "stdout",
     "output_type": "stream",
     "text": [
      "Predicted winner: ['Republican' 'Republican' 'Republican' 'Republican' 'Republican'\n",
      " 'Democrat' 'Republican' 'Republican' 'Republican' 'Republican']\n",
      "Actual winner: [['Republican']\n",
      " ['Republican']\n",
      " ['Republican']\n",
      " ['Republican']\n",
      " ['Democrat']\n",
      " ['Democrat']\n",
      " ['Republican']\n",
      " ['Democrat']\n",
      " ['Republican']\n",
      " ['Democrat']]\n"
     ]
    }
   ],
   "source": [
    "print(f\"Predicted winner: {prediction_labels}\")\n",
    "print(f\"Actual winner: {(y_test[:10])}\")"
   ]
  },
  {
   "cell_type": "code",
   "execution_count": 47,
   "metadata": {},
   "outputs": [
    {
     "data": {
      "text/plain": [
       "<seaborn.axisgrid.PairGrid at 0x1a44717828>"
      ]
     },
     "execution_count": 47,
     "metadata": {},
     "output_type": "execute_result"
    },
    {
     "data": {
      "image/png": "[encoded data removed]",
      "text/plain": [
       "<Figure size 180x180 with 2 Axes>"
      ]
     },
     "metadata": {},
     "output_type": "display_data"
    },
    {
     "data": {
      "image/png": "[encoded data removed]",
      "text/plain": [
       "<Figure size 180x180 with 2 Axes>"
      ]
     },
     "metadata": {},
     "output_type": "display_data"
    }
   ],
   "source": [
    "#Differet features which have an affect in the model\n",
    "sb.pairplot(va[['TotalHH']])\n",
    "sb.pairplot(va[['RaceWhite']])"
   ]
  },
  {
   "cell_type": "code",
   "execution_count": null,
   "metadata": {},
   "outputs": [],
   "source": []
  }
 ],
 "metadata": {
  "kernelspec": {
   "display_name": "Python 3",
   "language": "python",
   "name": "python3"
  },
  "language_info": {
   "codemirror_mode": {
    "name": "ipython",
    "version": 3
   },
   "file_extension": ".py",
   "mimetype": "text/x-python",
   "name": "python",
   "nbconvert_exporter": "python",
   "pygments_lexer": "ipython3",
   "version": "3.6.5"
  }
 },
 "nbformat": 4,
 "nbformat_minor": 2
}
